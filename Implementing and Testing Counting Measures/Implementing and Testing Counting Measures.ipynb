{
 "cells": [
  {
   "cell_type": "code",
   "execution_count": 75,
   "id": "c7c38f1b-579b-4519-a5b0-5c11c1a6b453",
   "metadata": {},
   "outputs": [
    {
     "name": "stdout",
     "output_type": "stream",
     "text": [
      "Requirement already satisfied: scipy in /opt/conda/lib/python3.10/site-packages (1.11.3)\n",
      "Requirement already satisfied: numpy<1.28.0,>=1.21.6 in /opt/conda/lib/python3.10/site-packages (from scipy) (1.24.3)\n"
     ]
    }
   ],
   "source": [
    "#Installing scipy\n",
    "!pip install scipy"
   ]
  },
  {
   "cell_type": "code",
   "execution_count": 76,
   "id": "e90cd7c4-c82f-46ca-b6db-1ad4ba4e214c",
   "metadata": {},
   "outputs": [
    {
     "name": "stdout",
     "output_type": "stream",
     "text": [
      "Requirement already satisfied: numpy in /opt/conda/lib/python3.10/site-packages (1.24.3)\n"
     ]
    }
   ],
   "source": [
    "#Installing numpy\n",
    "!pip install numpy"
   ]
  },
  {
   "cell_type": "code",
   "execution_count": 77,
   "id": "7ed5961c-b4cf-41f1-8e51-96ff067c5d4d",
   "metadata": {},
   "outputs": [
    {
     "name": "stdout",
     "output_type": "stream",
     "text": [
      "Requirement already satisfied: matplotlib in /opt/conda/lib/python3.10/site-packages (3.8.0)\n",
      "Requirement already satisfied: contourpy>=1.0.1 in /opt/conda/lib/python3.10/site-packages (from matplotlib) (1.1.1)\n",
      "Requirement already satisfied: cycler>=0.10 in /opt/conda/lib/python3.10/site-packages (from matplotlib) (0.11.0)\n",
      "Requirement already satisfied: fonttools>=4.22.0 in /opt/conda/lib/python3.10/site-packages (from matplotlib) (4.42.1)\n",
      "Requirement already satisfied: kiwisolver>=1.0.1 in /opt/conda/lib/python3.10/site-packages (from matplotlib) (1.4.5)\n",
      "Requirement already satisfied: numpy<2,>=1.21 in /opt/conda/lib/python3.10/site-packages (from matplotlib) (1.24.3)\n",
      "Requirement already satisfied: packaging>=20.0 in /opt/conda/lib/python3.10/site-packages (from matplotlib) (23.1)\n",
      "Requirement already satisfied: pillow>=6.2.0 in /opt/conda/lib/python3.10/site-packages (from matplotlib) (10.0.1)\n",
      "Requirement already satisfied: pyparsing>=2.3.1 in /opt/conda/lib/python3.10/site-packages (from matplotlib) (3.0.9)\n",
      "Requirement already satisfied: python-dateutil>=2.7 in /opt/conda/lib/python3.10/site-packages (from matplotlib) (2.8.2)\n",
      "Requirement already satisfied: six>=1.5 in /opt/conda/lib/python3.10/site-packages (from python-dateutil>=2.7->matplotlib) (1.16.0)\n"
     ]
    }
   ],
   "source": [
    "#Installing matplotlib\n",
    "!pip install matplotlib"
   ]
  },
  {
   "cell_type": "markdown",
   "id": "d3b575e5-b0b1-48c2-9f96-b7ff00e2ed1a",
   "metadata": {},
   "source": [
    "\n",
    "<br>Implement the counting measure in Python. Test that it satisfies additivity on the disjoint sets {\"a\", \"b\", \"c\"}, {\"d\", \"e\", \"f\"}.\n",
    "<br>Hint: If you have never written a Python function, read https://www.w3schools.com/python/python_ functions.asp, if you have never used Python sets, read https://www.w3schools.com/python/python_ sets.asp.<br>\n",
    "\n"
   ]
  },
  {
   "cell_type": "code",
   "execution_count": 78,
   "id": "8d8bc271-4f36-47a0-ad43-40b147f6fa6f",
   "metadata": {},
   "outputs": [],
   "source": [
    "import numpy as np\n",
    "import scipy.stats\n",
    "import matplotlib.pyplot as plt"
   ]
  },
  {
   "cell_type": "code",
   "execution_count": 79,
   "id": "aa9afbe1-b3ae-4c4e-842e-119faaa5e471",
   "metadata": {},
   "outputs": [
    {
     "name": "stdout",
     "output_type": "stream",
     "text": [
      "The Union set of set1 and set2 is: {'a', 'c', 'b', 'e', 'd', 'f'}\n",
      "The Additivity on Disjoint sets is: True\n",
      "The Measure of Set 1: 3\n",
      "The Measure of Set 2: 3\n",
      "The Measure of Union: 6\n"
     ]
    }
   ],
   "source": [
    "#Exercise 1\n",
    "\n",
    "def Additivity_and_Counting_Measure(set1, set2):\n",
    "    \n",
    "    # Checking if input is set\n",
    "    if not (isinstance(set1, set) and isinstance(set2, set)):\n",
    "        raise TypeError(\"Please make sure that the inputs are sets\")\n",
    "    \n",
    "    # Calculating counting measures for both sets\n",
    "    measure1 = len(set1)\n",
    "    measure2 = len(set2)\n",
    "\n",
    "    # Calculating counting measure for the union of the sets\n",
    "    union_measure = len(set1.union(set2))\n",
    "    union_set = set1.union(set2)\n",
    "    \n",
    "    # Checking additivity\n",
    "    if measure1 + measure2 == union_measure:\n",
    "        return True, union_set, measure1, measure2, union_measure\n",
    "    else:\n",
    "        return False, union_set, measure1, measure2, union_measure\n",
    "\n",
    "# Testing counting measure for additivity for below inputs\n",
    "set1 = {\"a\", \"b\", \"c\"}\n",
    "set2 = {\"d\", \"e\", \"f\"}\n",
    "\n",
    "#Calling the function\n",
    "output, union_set, measure1, measure2, union_measure = Additivity_and_Counting_Measure(set1, set2)\n",
    "\n",
    "#Printing the output\n",
    "print(\"The Union set of set1 and set2 is: {}\".format(union_set))\n",
    "print(\"The Additivity on Disjoint sets is: {}\".format(output))\n",
    "print(\"The Measure of Set 1: {}\".format(measure1))\n",
    "print(\"The Measure of Set 2: {}\".format(measure2))\n",
    "print(\"The Measure of Union: {}\".format(union_measure))\n"
   ]
  },
  {
   "cell_type": "markdown",
   "id": "1530a777-1b0e-49be-9d01-41c335670077",
   "metadata": {},
   "source": [
    "\n",
    "\n",
    "<br> Create a Python class which implements intervals. Use this new data type to write a function which implements the length measure on intervals. Test it on the interval [135].<br>\n",
    "Hint: If you have never written a Python class, read https://www.w3schools.com/python/python_classes.asp.\n",
    "\n",
    " <br>"
   ]
  },
  {
   "cell_type": "code",
   "execution_count": 80,
   "id": "c18a38a1-0fe0-4fab-b78e-3d25c0570eca",
   "metadata": {},
   "outputs": [
    {
     "name": "stdout",
     "output_type": "stream",
     "text": [
      "The length of interval funtion is {} (2.5, 2.7755575615628914e-14)\n"
     ]
    }
   ],
   "source": [
    "#Exercise 2 \n",
    "\n",
    "from scipy.integrate import quad\n",
    "\n",
    "#Creating a class named Intervals\n",
    "class Intervals:\n",
    "    function=1\n",
    "    def __init__(self,int1,int2):\n",
    "        \n",
    "        #Raising type error if the intervals are not numeric\n",
    "        if not isinstance(int1, (int,float)) or not isinstance(int2, (int,float)):\n",
    "            raise TypeError(\"Intervals must be numeric\")\n",
    "        self.function = lambda a:1\n",
    "        self.int1 = int1\n",
    "        self.int2  = int2\n",
    "     #Raising value error if interval limits are wrong\n",
    "    def integrate_func(self):\n",
    "        if self.int1 > self.int2:\n",
    "            raise ValueError(\"Lower limit must be lesser than or equal to upper limit\")\n",
    "        return quad(self.function,self.int1,self.int2)\n",
    "\n",
    "interval_input = Intervals(1,3.5)\n",
    "\n",
    "print(\"The length of interval funtion is {}\",interval_input.integrate_func())\n",
    "\n"
   ]
  },
  {
   "cell_type": "code",
   "execution_count": 81,
   "id": "f6304283-6492-48aa-9989-8133a49eda84",
   "metadata": {
    "tags": []
   },
   "outputs": [],
   "source": [
    "#Uncomment this to raise error\n",
    "#interval_input = Intervals(1,'u')"
   ]
  },
  {
   "cell_type": "markdown",
   "id": "831e38c5-308b-434b-9bbc-f48e4a088be3",
   "metadata": {},
   "source": [
    "<br> Import scipy.stats in order to access the scipy.stats.expon distribution. This implements the exponential distribution Exp( ). Make sure you read the documentation https://docs.scipy.org/doc/scipy/reference/generated/scipy.stats.expon.html to understand how it works and how the parameter is encoded. Using the cdf method of scipy.stats.expon define a function called expon_measure which will take as input an interval (defined in the previous question) and will return its probability mass under the probability measure Exp(2) (i.e. = 2). \n",
    "<br>Test your function by computing the probability measure of the following intervals:<br>\n",
    "(a) [0,1]<br>\n",
    "<br>(b) [1,1]<br>\n",
    "<br>(c) [1,10]<br>\n",
    "<br>(d) [0,infinity )<br>\n",
    "\n",
    "Plot the pdf of Exp(2) on comment on whether your answers seem to make sense visually <br>\n"
   ]
  },
  {
   "cell_type": "code",
   "execution_count": 82,
   "id": "2e074244-fda8-438f-8690-bded1b0ae974",
   "metadata": {
    "tags": []
   },
   "outputs": [],
   "source": [
    "from scipy.stats import expon\n",
    "import numpy as np\n",
    "import matplotlib.pyplot as plt"
   ]
  },
  {
   "cell_type": "code",
   "execution_count": 83,
   "id": "d95ae4c9-f6b6-4517-9cb2-5d78af85185a",
   "metadata": {},
   "outputs": [
    {
     "name": "stdout",
     "output_type": "stream",
     "text": [
      "The Probability Measure of [0, 1] is 0.8646647167633873\n",
      "The Probability Measure of [1, 1] is 0.0\n",
      "The Probability Measure of [1, 10] is 0.13533528117545912\n",
      "The Probability Measure of [0, inf] is 1.0\n"
     ]
    }
   ],
   "source": [
    "#Exercise 3\n",
    "\n",
    "def expon_measure(interval):\n",
    "    exponential_distribution = scipy.stats.expon(scale = 1/2) #scale is 1/lambda\n",
    "    probability_mass = exponential_distribution.cdf(interval[1]) - exponential_distribution.cdf(interval[0]) #\n",
    "    return probability_mass\n",
    "\n",
    "#Inputting different intervals to check the function\n",
    "interval_1 = [0,1]\n",
    "interval_2 = [1,1]\n",
    "interval_3 = [1,10]\n",
    "interval_4 = [0,float(\"inf\")] #Infinity is expressed as float(\"inf\") \n",
    "\n",
    "#Calling the function\n",
    "probability_1 = expon_measure(interval_1)\n",
    "probability_2 = expon_measure(interval_2)\n",
    "probability_3 = expon_measure(interval_3)\n",
    "probability_4 = expon_measure(interval_4)\n",
    "\n",
    "#Displaying probability measures of different intervals\n",
    "print(\"The Probability Measure of {} is {}\".format(interval_1,probability_1))\n",
    "print(\"The Probability Measure of {} is {}\".format(interval_2,probability_2))\n",
    "print(\"The Probability Measure of {} is {}\".format(interval_3,probability_3))\n",
    "print(\"The Probability Measure of {} is {}\".format(interval_4,probability_4))\n",
    "\n",
    "\n"
   ]
  },
  {
   "cell_type": "markdown",
   "id": "f791e3e2-27af-4f81-9e42-55a1f5cc39a2",
   "metadata": {},
   "source": [
    "##### Testing for interval from Previous question\n"
   ]
  },
  {
   "cell_type": "code",
   "execution_count": 84,
   "id": "83dc2030-9630-41a8-860e-5ae5d8e93ed1",
   "metadata": {
    "tags": []
   },
   "outputs": [
    {
     "name": "stdout",
     "output_type": "stream",
     "text": [
      "The Probability Measure of [1, 3.5] is 0.13442340127105823\n"
     ]
    }
   ],
   "source": [
    "interval_previous_question = [1,3.5]\n",
    "probability_5 = expon_measure(interval_previous_question)\n",
    "print(\"The Probability Measure of {} is {}\".format(interval_previous_question, probability_5))"
   ]
  },
  {
   "cell_type": "markdown",
   "id": "ce8d26aa-5143-48aa-a6c1-70adbe5a2209",
   "metadata": {
    "tags": []
   },
   "source": [
    "##### Plotting the Probability Density Function of Exponential distribution of 2"
   ]
  },
  {
   "cell_type": "code",
   "execution_count": 85,
   "id": "876c0a25-6f04-4e26-965c-a44507061ff3",
   "metadata": {},
   "outputs": [
    {
     "data": {
      "image/png": "[encoded data removed]",
      "text/plain": [
       "<Figure size 640x480 with 1 Axes>"
      ]
     },
     "metadata": {},
     "output_type": "display_data"
    }
   ],
   "source": [
    "#Plotting the distribution of Exp(2)\n",
    "\n",
    "exponential_distribution = scipy.stats.expon(scale = 1/2) #scale is 1/lambda\n",
    "x = np.linspace(0,10,100) #Creating x values for pdf plot\n",
    "\n",
    "Probability_Density_Function_Values = exponential_distribution.pdf(x)\n",
    "\n",
    "\n",
    "plt.plot(x, Probability_Density_Function_Values, linewidth = 2, color = 'magenta',label = \"PDF of Exp(2)\")\n",
    "plt.xlabel(\"X Values\") #Labelling the X axis\n",
    "plt.title(\"Probability Density Function(PDF) of Exponential Distribution of 2\") #Setting title for the figure\n",
    "plt.ylabel(\"PDF Values\") #Labelling the Y axis\n",
    "plt.legend()\n",
    "plt.show()"
   ]
  },
  {
   "cell_type": "markdown",
   "id": "7c959f75-849b-4e99-a6ea-8a449fbd19d3",
   "metadata": {
    "tags": []
   },
   "source": [
    "##### Comment on whether your answers seem to make sense visually"
   ]
  },
  {
   "cell_type": "markdown",
   "id": "bc79b470-d967-44ee-846b-53dff2731afd",
   "metadata": {},
   "source": [
    "##### Explanation\n",
    "\n",
    "The above code plots a PDF of Exponential Distribution of 2 over the interval of [0,10].\n",
    "\n",
    "(a) Interval [0, 1]:- The probability measure calculated represents the area under the PDF curve between 0 and 1. From the plot, we can observe that this interval is the first part of the curve, where the PDF has a high value. Therefore, the probability measure should be relatively large, which matches the calculated result.\n",
    "<br>(b) Interval [1, 1]:- the PDF is very close to 0 at x = 1, meaning that the probability of an event occurring exactly at x = 1 is extremely low. Therefore, the probability measure is very close to 0, which matches the calculated result.\n",
    "<br>(c) Interval [1, 10]:- The PDF decreases but still has some value. Therefore, the probability measure calculated for this interval should also be significant, which matches the calculated result.\n",
    "<br>(d) Interval [0, ∞]:- The PDF is infinite. Therefore, the probability measure should be equal to 1, which matches the calculated result.<br>\n",
    "<br>In conclusion, the visual characteristics of the Exponential(2) distribution and the probability measures calculated in Exercise 3 align with the expected behavior of the distribution, making sense visually. <br>"
   ]
  },
  {
   "cell_type": "markdown",
   "id": "0d437143-930c-4cc6-8abe-322f0fa59c28",
   "metadata": {},
   "source": [
    "\n",
    "\n",
    "<br>Using the pdf method of scipy.stats.expon, define a function called expon_pdf which will\n",
    " take one argument x and return the pdf of the probability measure Exp(2) evaluated at x. Import\n",
    " the integration routine quad from scipy.integrate, and read the documentation https://docs.scipy.\n",
    " org/doc/scipy/reference/generated/scipy.integrate.quad.html to see how it works. Use quad to\n",
    " compute and print the following integrals\n",
    "<br>\n",
    "(a) $$\\int_{0}^{1} expon\\_pdf(x) \\, dx$$\n",
    "<br>\n",
    "<br>\n",
    "(a) $$\\int_{1}^{1} expon\\_pdf(x) \\, dx$$\n",
    "<br>\n",
    "<br>\n",
    "(a) $$\\int_{1}^{10} expon\\_pdf(x) \\, dx$$\n",
    "<br>\n",
    "<br>\n",
    "(a) $$\\int_{0}^{-\\infty} expon\\_pdf(x) \\, dx$$\n",
    "<br>\n",
    "<br>Compare your answers with those of the previous question. What do you see? Why is this the case\n",
    "\n",
    "<br>"
   ]
  },
  {
   "cell_type": "code",
   "execution_count": 86,
   "id": "394a92c1-f3df-46ef-af12-9323d36eb289",
   "metadata": {
    "tags": []
   },
   "outputs": [
    {
     "name": "stdout",
     "output_type": "stream",
     "text": [
      "The Integral from 1,3.5 of Exp(2) is 0.13442340127105817 and Error is 1.4923995513955532e-15\n",
      "\n",
      "\n",
      "(a) The Integral from 0 to 1 of Exp(2) is 0.8646647167633873 and Error is 9.599706771317021e-15\n",
      "(b) The Integral from 1 to 1 of Exp(2) is 0.0 and Error is 0.0\n",
      "(c) The Integral from 1 to 10 of Exp(2) is 0.13533528117545912 and Error is 2.4502060294750603e-09\n",
      "(d) The Integral from 0 to infinity of Exp(2) is 0.9999999999999999 and Error is 1.5470064009984758e-10\n"
     ]
    }
   ],
   "source": [
    "#Exercise 4\n",
    "\n",
    "from scipy.stats import expon\n",
    "from scipy.integrate import quad\n",
    "\n",
    "# Define the Exponential PDF function for Exponential of 2\n",
    "def expon_pdf(x):\n",
    "    return expon.pdf(x, scale = 1/2)  # The scale parameter is 1/lambda\n",
    "\n",
    "# Calculate and print the specified integrals\n",
    "integral_a, error_a = quad(expon_pdf, 0, 1)\n",
    "integral_b, error_b = quad(expon_pdf, 1, 1)\n",
    "integral_c, error_c = quad(expon_pdf, 1, 10)\n",
    "integral_d, error_d = quad(expon_pdf, 0, float('inf'))\n",
    "\n",
    "#Calculating the integral from previous exercise\n",
    "integral_e, error_e = quad(expon_pdf, 1, 3.5)\n",
    "print(\"The Integral from 1,3.5 of Exp(2) is {} and Error is {}\".format(integral_e,error_e))\n",
    "print(\"\\n\")\n",
    "#Printing\n",
    "print(\"(a) The Integral from 0 to 1 of Exp(2) is {} and Error is {}\".format(integral_a,error_a))\n",
    "print(\"(b) The Integral from 1 to 1 of Exp(2) is {} and Error is {}\".format(integral_b,error_b))\n",
    "print(\"(c) The Integral from 1 to 10 of Exp(2) is {} and Error is {}\".format(integral_c, error_c))\n",
    "print(\"(d) The Integral from 0 to infinity of Exp(2) is {} and Error is {}\".format(integral_d, error_d))\n",
    "\n",
    "\n"
   ]
  },
  {
   "cell_type": "markdown",
   "id": "0ce1678d-8a56-4f67-8518-9d64ac0fa03d",
   "metadata": {},
   "source": [
    "##### Compare your answers with those of the previous question. What do you see? Why is this the case?"
   ]
  },
  {
   "cell_type": "markdown",
   "id": "8cfc85c7-23a5-4b83-8a5a-a36bd98712fb",
   "metadata": {},
   "source": [
    "##### Explanation\n",
    "<br>The results from Exercise 3 and 4 for the intervals [0,1], [1,1], [1,10] and [0,infinity] display the same results as they represent the same underlying probability measures. When we integrate the PDF we obtain the CDF and then if we differentiate the CDF to get back the PDF. There is a slight difference but it is neglibile. <br>"
   ]
  },
  {
   "cell_type": "code",
   "execution_count": null,
   "id": "c6038606-f0d3-4609-ad37-f0ff80137ca7",
   "metadata": {},
   "outputs": [],
   "source": []
  }
 ],
 "metadata": {
  "kernelspec": {
   "display_name": "Python 3 (ipykernel)",
   "language": "python",
   "name": "python3"
  },
  "language_info": {
   "codemirror_mode": {
    "name": "ipython",
    "version": 3
   },
   "file_extension": ".py",
   "mimetype": "text/x-python",
   "name": "python",
   "nbconvert_exporter": "python",
   "pygments_lexer": "ipython3",
   "version": "3.10.12"
  }
 },
 "nbformat": 4,
 "nbformat_minor": 5
}
